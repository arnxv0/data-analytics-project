{
  "cells": [
    {
      "cell_type": "code",
      "execution_count": 116,
      "metadata": {
        "id": "jZwjOeEeZuXB"
      },
      "outputs": [],
      "source": [
        "import numpy as np\n",
        "import matplotlib.pyplot as plt\n",
        "import pandas as pd"
      ]
    },
    {
      "cell_type": "code",
      "execution_count": 117,
      "metadata": {
        "colab": {
          "base_uri": "https://localhost:8080/",
          "height": 478
        },
        "id": "ijKaGAnwZ6nB",
        "outputId": "56225bfb-5a25-4ffd-c323-e241bb5c1eb0"
      },
      "outputs": [
        {
          "data": {
            "text/html": [
              "<div>\n",
              "<style scoped>\n",
              "    .dataframe tbody tr th:only-of-type {\n",
              "        vertical-align: middle;\n",
              "    }\n",
              "\n",
              "    .dataframe tbody tr th {\n",
              "        vertical-align: top;\n",
              "    }\n",
              "\n",
              "    .dataframe thead th {\n",
              "        text-align: right;\n",
              "    }\n",
              "</style>\n",
              "<table border=\"1\" class=\"dataframe\">\n",
              "  <thead>\n",
              "    <tr style=\"text-align: right;\">\n",
              "      <th></th>\n",
              "      <th>Unnamed: 0</th>\n",
              "      <th>TotalCharges</th>\n",
              "      <th>tenure</th>\n",
              "      <th>MonthlyCharges</th>\n",
              "      <th>MultipleLines_No phone service</th>\n",
              "      <th>SeniorCitizen</th>\n",
              "      <th>Contract_One year</th>\n",
              "      <th>PaymentMethod_Credit card (automatic)</th>\n",
              "      <th>InternetService_No</th>\n",
              "      <th>PaymentMethod_Bank transfer (automatic)</th>\n",
              "      <th>PaymentMethod_Mailed check</th>\n",
              "      <th>Contract_Two year</th>\n",
              "      <th>Churn</th>\n",
              "      <th>OnlineSecurity_Yes</th>\n",
              "      <th>TechSupport_Yes</th>\n",
              "    </tr>\n",
              "  </thead>\n",
              "  <tbody>\n",
              "    <tr>\n",
              "      <th>0</th>\n",
              "      <td>0</td>\n",
              "      <td>29.85</td>\n",
              "      <td>1</td>\n",
              "      <td>29.85</td>\n",
              "      <td>1</td>\n",
              "      <td>0</td>\n",
              "      <td>0</td>\n",
              "      <td>0</td>\n",
              "      <td>0</td>\n",
              "      <td>0</td>\n",
              "      <td>0</td>\n",
              "      <td>0</td>\n",
              "      <td>0</td>\n",
              "      <td>0</td>\n",
              "      <td>0</td>\n",
              "    </tr>\n",
              "    <tr>\n",
              "      <th>1</th>\n",
              "      <td>1</td>\n",
              "      <td>1889.50</td>\n",
              "      <td>34</td>\n",
              "      <td>56.95</td>\n",
              "      <td>0</td>\n",
              "      <td>0</td>\n",
              "      <td>1</td>\n",
              "      <td>0</td>\n",
              "      <td>0</td>\n",
              "      <td>0</td>\n",
              "      <td>1</td>\n",
              "      <td>0</td>\n",
              "      <td>0</td>\n",
              "      <td>1</td>\n",
              "      <td>0</td>\n",
              "    </tr>\n",
              "    <tr>\n",
              "      <th>2</th>\n",
              "      <td>2</td>\n",
              "      <td>108.15</td>\n",
              "      <td>2</td>\n",
              "      <td>53.85</td>\n",
              "      <td>0</td>\n",
              "      <td>0</td>\n",
              "      <td>0</td>\n",
              "      <td>0</td>\n",
              "      <td>0</td>\n",
              "      <td>0</td>\n",
              "      <td>1</td>\n",
              "      <td>0</td>\n",
              "      <td>1</td>\n",
              "      <td>1</td>\n",
              "      <td>0</td>\n",
              "    </tr>\n",
              "    <tr>\n",
              "      <th>3</th>\n",
              "      <td>3</td>\n",
              "      <td>1840.75</td>\n",
              "      <td>45</td>\n",
              "      <td>42.30</td>\n",
              "      <td>1</td>\n",
              "      <td>0</td>\n",
              "      <td>1</td>\n",
              "      <td>0</td>\n",
              "      <td>0</td>\n",
              "      <td>1</td>\n",
              "      <td>0</td>\n",
              "      <td>0</td>\n",
              "      <td>0</td>\n",
              "      <td>1</td>\n",
              "      <td>1</td>\n",
              "    </tr>\n",
              "    <tr>\n",
              "      <th>4</th>\n",
              "      <td>4</td>\n",
              "      <td>151.65</td>\n",
              "      <td>2</td>\n",
              "      <td>70.70</td>\n",
              "      <td>0</td>\n",
              "      <td>0</td>\n",
              "      <td>0</td>\n",
              "      <td>0</td>\n",
              "      <td>0</td>\n",
              "      <td>0</td>\n",
              "      <td>0</td>\n",
              "      <td>0</td>\n",
              "      <td>1</td>\n",
              "      <td>0</td>\n",
              "      <td>0</td>\n",
              "    </tr>\n",
              "    <tr>\n",
              "      <th>...</th>\n",
              "      <td>...</td>\n",
              "      <td>...</td>\n",
              "      <td>...</td>\n",
              "      <td>...</td>\n",
              "      <td>...</td>\n",
              "      <td>...</td>\n",
              "      <td>...</td>\n",
              "      <td>...</td>\n",
              "      <td>...</td>\n",
              "      <td>...</td>\n",
              "      <td>...</td>\n",
              "      <td>...</td>\n",
              "      <td>...</td>\n",
              "      <td>...</td>\n",
              "      <td>...</td>\n",
              "    </tr>\n",
              "    <tr>\n",
              "      <th>7038</th>\n",
              "      <td>7038</td>\n",
              "      <td>1990.50</td>\n",
              "      <td>24</td>\n",
              "      <td>84.80</td>\n",
              "      <td>0</td>\n",
              "      <td>0</td>\n",
              "      <td>1</td>\n",
              "      <td>0</td>\n",
              "      <td>0</td>\n",
              "      <td>0</td>\n",
              "      <td>1</td>\n",
              "      <td>0</td>\n",
              "      <td>0</td>\n",
              "      <td>1</td>\n",
              "      <td>1</td>\n",
              "    </tr>\n",
              "    <tr>\n",
              "      <th>7039</th>\n",
              "      <td>7039</td>\n",
              "      <td>7362.90</td>\n",
              "      <td>72</td>\n",
              "      <td>103.20</td>\n",
              "      <td>0</td>\n",
              "      <td>0</td>\n",
              "      <td>1</td>\n",
              "      <td>1</td>\n",
              "      <td>0</td>\n",
              "      <td>0</td>\n",
              "      <td>0</td>\n",
              "      <td>0</td>\n",
              "      <td>0</td>\n",
              "      <td>0</td>\n",
              "      <td>0</td>\n",
              "    </tr>\n",
              "    <tr>\n",
              "      <th>7040</th>\n",
              "      <td>7040</td>\n",
              "      <td>346.45</td>\n",
              "      <td>11</td>\n",
              "      <td>29.60</td>\n",
              "      <td>1</td>\n",
              "      <td>0</td>\n",
              "      <td>0</td>\n",
              "      <td>0</td>\n",
              "      <td>0</td>\n",
              "      <td>0</td>\n",
              "      <td>0</td>\n",
              "      <td>0</td>\n",
              "      <td>0</td>\n",
              "      <td>1</td>\n",
              "      <td>0</td>\n",
              "    </tr>\n",
              "    <tr>\n",
              "      <th>7041</th>\n",
              "      <td>7041</td>\n",
              "      <td>306.60</td>\n",
              "      <td>4</td>\n",
              "      <td>74.40</td>\n",
              "      <td>0</td>\n",
              "      <td>1</td>\n",
              "      <td>0</td>\n",
              "      <td>0</td>\n",
              "      <td>0</td>\n",
              "      <td>0</td>\n",
              "      <td>1</td>\n",
              "      <td>0</td>\n",
              "      <td>1</td>\n",
              "      <td>0</td>\n",
              "      <td>0</td>\n",
              "    </tr>\n",
              "    <tr>\n",
              "      <th>7042</th>\n",
              "      <td>7042</td>\n",
              "      <td>6844.50</td>\n",
              "      <td>66</td>\n",
              "      <td>105.65</td>\n",
              "      <td>0</td>\n",
              "      <td>0</td>\n",
              "      <td>0</td>\n",
              "      <td>0</td>\n",
              "      <td>0</td>\n",
              "      <td>1</td>\n",
              "      <td>0</td>\n",
              "      <td>1</td>\n",
              "      <td>0</td>\n",
              "      <td>1</td>\n",
              "      <td>1</td>\n",
              "    </tr>\n",
              "  </tbody>\n",
              "</table>\n",
              "<p>7043 rows × 15 columns</p>\n",
              "</div>"
            ],
            "text/plain": [
              "      Unnamed: 0  TotalCharges  ...  OnlineSecurity_Yes  TechSupport_Yes\n",
              "0              0         29.85  ...                   0                0\n",
              "1              1       1889.50  ...                   1                0\n",
              "2              2        108.15  ...                   1                0\n",
              "3              3       1840.75  ...                   1                1\n",
              "4              4        151.65  ...                   0                0\n",
              "...          ...           ...  ...                 ...              ...\n",
              "7038        7038       1990.50  ...                   1                1\n",
              "7039        7039       7362.90  ...                   0                0\n",
              "7040        7040        346.45  ...                   1                0\n",
              "7041        7041        306.60  ...                   0                0\n",
              "7042        7042       6844.50  ...                   1                1\n",
              "\n",
              "[7043 rows x 15 columns]"
            ]
          },
          "execution_count": 117,
          "metadata": {},
          "output_type": "execute_result"
        }
      ],
      "source": [
        "dataset = pd.read_csv(\"Cleaned-Telco-Dataset.csv\")\n",
        "dataset"
      ]
    },
    {
      "cell_type": "code",
      "execution_count": 118,
      "metadata": {
        "colab": {
          "base_uri": "https://localhost:8080/"
        },
        "id": "b2_LN-FZaUOB",
        "outputId": "2f20dbf0-4e47-45e5-8ab6-247e6c516fe1"
      },
      "outputs": [
        {
          "data": {
            "text/plain": [
              "(7043, 15)"
            ]
          },
          "execution_count": 118,
          "metadata": {},
          "output_type": "execute_result"
        }
      ],
      "source": [
        "dataset.shape"
      ]
    },
    {
      "cell_type": "code",
      "execution_count": 119,
      "metadata": {
        "id": "N30jcZ3deSH3"
      },
      "outputs": [],
      "source": [
        "# # Feature Scaling\n",
        "# from sklearn.preprocessing import StandardScaler\n",
        "# sc = StandardScaler()\n",
        "# X_train = sc.fit_transform(X_train)\n",
        "# X_test = sc.transform(X_test)\n",
        "\n",
        "# scale_cols = ['TotalCharges','tenure','MonthlyCharges']\n",
        "# # now we scling all the data \n",
        "# from sklearn.preprocessing import MinMaxScaler\n",
        "# scale = MinMaxScaler()\n",
        "# dataset[scale_cols] = scale.fit_transform(dataset[scale_cols])"
      ]
    },
    {
      "cell_type": "code",
      "execution_count": 120,
      "metadata": {
        "id": "jxFOuszJab0H"
      },
      "outputs": [],
      "source": [
        "X = dataset.drop('Churn', axis = 1)\n",
        "y = dataset['Churn']"
      ]
    },
    {
      "cell_type": "code",
      "execution_count": 121,
      "metadata": {
        "id": "_T2jTO7daucP"
      },
      "outputs": [],
      "source": [
        "\n",
        "# Splitting the dataset into the Training set and Test set\n",
        "from sklearn.model_selection import train_test_split\n",
        "X_train, X_test, y_train, y_test = train_test_split(X, y, test_size = 0.2, random_state = 0)\n",
        "\n",
        "# Feature Scaling\n",
        "from sklearn.preprocessing import StandardScaler\n",
        "sc = StandardScaler()\n",
        "X_train = sc.fit_transform(X_train)\n",
        "X_test = sc.transform(X_test)"
      ]
    },
    {
      "cell_type": "markdown",
      "metadata": {
        "id": "fUaiS6jziB-h"
      },
      "source": []
    },
    {
      "cell_type": "code",
      "execution_count": 122,
      "metadata": {
        "id": "Qlyph-lCa8nP"
      },
      "outputs": [],
      "source": [
        "# Part 2 - Now let's make the ANN!\n",
        "\n",
        "# Importing the Keras libraries and packages\n",
        "# import keras\n",
        "from tensorflow.keras.models import Sequential\n",
        "from tensorflow.keras.layers import Dense\n",
        "from tensorflow.keras.layers import LeakyReLU,PReLU,ELU\n",
        "from tensorflow.keras.layers import Dropout"
      ]
    },
    {
      "cell_type": "code",
      "execution_count": 123,
      "metadata": {
        "id": "oU1rpJpxa-lv"
      },
      "outputs": [],
      "source": [
        "# Initialising the ANN\n",
        "classifier = Sequential()\n",
        "\n",
        "# Adding the input layer and the first hidden layer\n",
        "classifier.add(Dense(units = 6, kernel_initializer = 'he_uniform',activation='relu',input_dim = 14))\n",
        "# classifier.add(Dropout(0.3))\n",
        "\n",
        "# Adding the second hidden layer\n",
        "classifier.add(Dense(units = 6, kernel_initializer = 'he_uniform',activation='relu'))\n",
        "# Adding the output layer\n",
        "classifier.add(Dense(units = 1, kernel_initializer = 'glorot_uniform', activation = 'sigmoid'))"
      ]
    },
    {
      "cell_type": "code",
      "execution_count": 124,
      "metadata": {
        "id": "MVUykLZ2bB8X"
      },
      "outputs": [],
      "source": [
        "# Compiling the ANN\n",
        "classifier.compile(optimizer = 'Adamax', loss = 'binary_crossentropy', metrics = ['accuracy'])"
      ]
    },
    {
      "cell_type": "code",
      "execution_count": 125,
      "metadata": {
        "colab": {
          "base_uri": "https://localhost:8080/"
        },
        "id": "idV33d2GbE2P",
        "outputId": "ce1e4bc5-28fe-465c-cf81-3d9286c82878"
      },
      "outputs": [
        {
          "name": "stdout",
          "output_type": "stream",
          "text": [
            "Model: \"sequential_8\"\n",
            "_________________________________________________________________\n",
            " Layer (type)                Output Shape              Param #   \n",
            "=================================================================\n",
            " dense_25 (Dense)            (None, 6)                 90        \n",
            "                                                                 \n",
            " dense_26 (Dense)            (None, 6)                 42        \n",
            "                                                                 \n",
            " dense_27 (Dense)            (None, 1)                 7         \n",
            "                                                                 \n",
            "=================================================================\n",
            "Total params: 139\n",
            "Trainable params: 139\n",
            "Non-trainable params: 0\n",
            "_________________________________________________________________\n"
          ]
        }
      ],
      "source": [
        "classifier.summary()"
      ]
    },
    {
      "cell_type": "code",
      "execution_count": 126,
      "metadata": {
        "colab": {
          "base_uri": "https://localhost:8080/"
        },
        "id": "3gL3qFBcbGjn",
        "outputId": "a8542442-74e6-425f-f439-1c3632f56f12"
      },
      "outputs": [
        {
          "data": {
            "text/plain": [
              "((5634, 14), (5634,))"
            ]
          },
          "execution_count": 126,
          "metadata": {},
          "output_type": "execute_result"
        }
      ],
      "source": [
        "X_train.shape, y_train.shape"
      ]
    },
    {
      "cell_type": "code",
      "execution_count": 127,
      "metadata": {
        "colab": {
          "base_uri": "https://localhost:8080/"
        },
        "id": "RwcadQ4DbKk_",
        "outputId": "704f0a23-c184-422e-8a14-df6bb2035eb0"
      },
      "outputs": [
        {
          "name": "stdout",
          "output_type": "stream",
          "text": [
            "Epoch 1/100\n",
            "451/451 [==============================] - 2s 3ms/step - loss: 0.5649 - accuracy: 0.7258 - val_loss: 0.5151 - val_accuracy: 0.7453\n",
            "Epoch 2/100\n",
            "451/451 [==============================] - 1s 2ms/step - loss: 0.5130 - accuracy: 0.7351 - val_loss: 0.4779 - val_accuracy: 0.7737\n",
            "Epoch 3/100\n",
            "451/451 [==============================] - 1s 3ms/step - loss: 0.4863 - accuracy: 0.7635 - val_loss: 0.4583 - val_accuracy: 0.7879\n",
            "Epoch 4/100\n",
            "451/451 [==============================] - 1s 2ms/step - loss: 0.4714 - accuracy: 0.7724 - val_loss: 0.4464 - val_accuracy: 0.7897\n",
            "Epoch 5/100\n",
            "451/451 [==============================] - 1s 2ms/step - loss: 0.4614 - accuracy: 0.7777 - val_loss: 0.4379 - val_accuracy: 0.7950\n",
            "Epoch 6/100\n",
            "451/451 [==============================] - 1s 2ms/step - loss: 0.4549 - accuracy: 0.7790 - val_loss: 0.4323 - val_accuracy: 0.8004\n",
            "Epoch 7/100\n",
            "451/451 [==============================] - 1s 2ms/step - loss: 0.4503 - accuracy: 0.7806 - val_loss: 0.4283 - val_accuracy: 0.7941\n",
            "Epoch 8/100\n",
            "451/451 [==============================] - 1s 2ms/step - loss: 0.4470 - accuracy: 0.7772 - val_loss: 0.4248 - val_accuracy: 0.8004\n",
            "Epoch 9/100\n",
            "451/451 [==============================] - 1s 2ms/step - loss: 0.4441 - accuracy: 0.7815 - val_loss: 0.4218 - val_accuracy: 0.8004\n",
            "Epoch 10/100\n",
            "451/451 [==============================] - 1s 2ms/step - loss: 0.4416 - accuracy: 0.7801 - val_loss: 0.4189 - val_accuracy: 0.8057\n",
            "Epoch 11/100\n",
            "451/451 [==============================] - 1s 2ms/step - loss: 0.4395 - accuracy: 0.7826 - val_loss: 0.4166 - val_accuracy: 0.8057\n",
            "Epoch 12/100\n",
            "451/451 [==============================] - 1s 2ms/step - loss: 0.4376 - accuracy: 0.7812 - val_loss: 0.4142 - val_accuracy: 0.8110\n",
            "Epoch 13/100\n",
            "451/451 [==============================] - 1s 2ms/step - loss: 0.4360 - accuracy: 0.7839 - val_loss: 0.4124 - val_accuracy: 0.8128\n",
            "Epoch 14/100\n",
            "451/451 [==============================] - 1s 2ms/step - loss: 0.4346 - accuracy: 0.7852 - val_loss: 0.4107 - val_accuracy: 0.8128\n",
            "Epoch 15/100\n",
            "451/451 [==============================] - 1s 2ms/step - loss: 0.4333 - accuracy: 0.7850 - val_loss: 0.4094 - val_accuracy: 0.8128\n",
            "Epoch 16/100\n",
            "451/451 [==============================] - 1s 2ms/step - loss: 0.4322 - accuracy: 0.7866 - val_loss: 0.4083 - val_accuracy: 0.8146\n",
            "Epoch 17/100\n",
            "451/451 [==============================] - 1s 3ms/step - loss: 0.4314 - accuracy: 0.7870 - val_loss: 0.4072 - val_accuracy: 0.8154\n",
            "Epoch 18/100\n",
            "451/451 [==============================] - 1s 2ms/step - loss: 0.4305 - accuracy: 0.7877 - val_loss: 0.4064 - val_accuracy: 0.8154\n",
            "Epoch 19/100\n",
            "451/451 [==============================] - 1s 2ms/step - loss: 0.4298 - accuracy: 0.7888 - val_loss: 0.4057 - val_accuracy: 0.8154\n",
            "Epoch 20/100\n",
            "451/451 [==============================] - 1s 2ms/step - loss: 0.4290 - accuracy: 0.7892 - val_loss: 0.4049 - val_accuracy: 0.8172\n",
            "Epoch 21/100\n",
            "451/451 [==============================] - 1s 2ms/step - loss: 0.4283 - accuracy: 0.7897 - val_loss: 0.4046 - val_accuracy: 0.8172\n",
            "Epoch 22/100\n",
            "451/451 [==============================] - 1s 2ms/step - loss: 0.4276 - accuracy: 0.7897 - val_loss: 0.4039 - val_accuracy: 0.8208\n",
            "Epoch 23/100\n",
            "451/451 [==============================] - 1s 2ms/step - loss: 0.4271 - accuracy: 0.7899 - val_loss: 0.4035 - val_accuracy: 0.8163\n",
            "Epoch 24/100\n",
            "451/451 [==============================] - 1s 2ms/step - loss: 0.4264 - accuracy: 0.7892 - val_loss: 0.4034 - val_accuracy: 0.8181\n",
            "Epoch 25/100\n",
            "451/451 [==============================] - 1s 2ms/step - loss: 0.4258 - accuracy: 0.7894 - val_loss: 0.4028 - val_accuracy: 0.8181\n",
            "Epoch 26/100\n",
            "451/451 [==============================] - 1s 2ms/step - loss: 0.4253 - accuracy: 0.7912 - val_loss: 0.4029 - val_accuracy: 0.8163\n",
            "Epoch 27/100\n",
            "451/451 [==============================] - 1s 2ms/step - loss: 0.4247 - accuracy: 0.7894 - val_loss: 0.4029 - val_accuracy: 0.8181\n",
            "Epoch 28/100\n",
            "451/451 [==============================] - 1s 2ms/step - loss: 0.4244 - accuracy: 0.7886 - val_loss: 0.4023 - val_accuracy: 0.8172\n",
            "Epoch 29/100\n",
            "451/451 [==============================] - 1s 2ms/step - loss: 0.4238 - accuracy: 0.7899 - val_loss: 0.4021 - val_accuracy: 0.8172\n",
            "Epoch 30/100\n",
            "451/451 [==============================] - 1s 3ms/step - loss: 0.4233 - accuracy: 0.7899 - val_loss: 0.4018 - val_accuracy: 0.8146\n",
            "Epoch 31/100\n",
            "451/451 [==============================] - 1s 3ms/step - loss: 0.4226 - accuracy: 0.7894 - val_loss: 0.4018 - val_accuracy: 0.8163\n",
            "Epoch 32/100\n",
            "451/451 [==============================] - 1s 2ms/step - loss: 0.4224 - accuracy: 0.7901 - val_loss: 0.4016 - val_accuracy: 0.8154\n",
            "Epoch 33/100\n",
            "451/451 [==============================] - 1s 2ms/step - loss: 0.4217 - accuracy: 0.7912 - val_loss: 0.4015 - val_accuracy: 0.8163\n",
            "Epoch 34/100\n",
            "451/451 [==============================] - 1s 2ms/step - loss: 0.4214 - accuracy: 0.7903 - val_loss: 0.4011 - val_accuracy: 0.8163\n",
            "Epoch 35/100\n",
            "451/451 [==============================] - 1s 3ms/step - loss: 0.4209 - accuracy: 0.7912 - val_loss: 0.4010 - val_accuracy: 0.8137\n",
            "Epoch 36/100\n",
            "451/451 [==============================] - 1s 3ms/step - loss: 0.4204 - accuracy: 0.7905 - val_loss: 0.4008 - val_accuracy: 0.8137\n",
            "Epoch 37/100\n",
            "451/451 [==============================] - 1s 2ms/step - loss: 0.4201 - accuracy: 0.7932 - val_loss: 0.4007 - val_accuracy: 0.8146\n",
            "Epoch 38/100\n",
            "451/451 [==============================] - 1s 2ms/step - loss: 0.4197 - accuracy: 0.7925 - val_loss: 0.4005 - val_accuracy: 0.8154\n",
            "Epoch 39/100\n",
            "451/451 [==============================] - 1s 3ms/step - loss: 0.4193 - accuracy: 0.7923 - val_loss: 0.4005 - val_accuracy: 0.8181\n",
            "Epoch 40/100\n",
            "451/451 [==============================] - 1s 3ms/step - loss: 0.4190 - accuracy: 0.7943 - val_loss: 0.4007 - val_accuracy: 0.8154\n",
            "Epoch 41/100\n",
            "451/451 [==============================] - 1s 2ms/step - loss: 0.4186 - accuracy: 0.7921 - val_loss: 0.4005 - val_accuracy: 0.8163\n",
            "Epoch 42/100\n",
            "451/451 [==============================] - 1s 2ms/step - loss: 0.4182 - accuracy: 0.7937 - val_loss: 0.4003 - val_accuracy: 0.8181\n",
            "Epoch 43/100\n",
            "451/451 [==============================] - 1s 2ms/step - loss: 0.4180 - accuracy: 0.7925 - val_loss: 0.4003 - val_accuracy: 0.8172\n",
            "Epoch 44/100\n",
            "451/451 [==============================] - 1s 2ms/step - loss: 0.4177 - accuracy: 0.7921 - val_loss: 0.4004 - val_accuracy: 0.8172\n",
            "Epoch 45/100\n",
            "451/451 [==============================] - 1s 2ms/step - loss: 0.4173 - accuracy: 0.7928 - val_loss: 0.4003 - val_accuracy: 0.8154\n",
            "Epoch 46/100\n",
            "451/451 [==============================] - 1s 2ms/step - loss: 0.4170 - accuracy: 0.7932 - val_loss: 0.4006 - val_accuracy: 0.8154\n",
            "Epoch 47/100\n",
            "451/451 [==============================] - 1s 2ms/step - loss: 0.4167 - accuracy: 0.7934 - val_loss: 0.4006 - val_accuracy: 0.8146\n",
            "Epoch 48/100\n",
            "451/451 [==============================] - 1s 3ms/step - loss: 0.4163 - accuracy: 0.7934 - val_loss: 0.4007 - val_accuracy: 0.8146\n",
            "Epoch 49/100\n",
            "451/451 [==============================] - 1s 2ms/step - loss: 0.4160 - accuracy: 0.7937 - val_loss: 0.4010 - val_accuracy: 0.8154\n",
            "Epoch 50/100\n",
            "451/451 [==============================] - 1s 2ms/step - loss: 0.4157 - accuracy: 0.7952 - val_loss: 0.4009 - val_accuracy: 0.8163\n",
            "Epoch 51/100\n",
            "451/451 [==============================] - 1s 2ms/step - loss: 0.4152 - accuracy: 0.7934 - val_loss: 0.4013 - val_accuracy: 0.8172\n",
            "Epoch 52/100\n",
            "451/451 [==============================] - 1s 2ms/step - loss: 0.4147 - accuracy: 0.7952 - val_loss: 0.4016 - val_accuracy: 0.8181\n",
            "Epoch 53/100\n",
            "451/451 [==============================] - 1s 2ms/step - loss: 0.4144 - accuracy: 0.7932 - val_loss: 0.4016 - val_accuracy: 0.8199\n",
            "Epoch 54/100\n",
            "451/451 [==============================] - 1s 2ms/step - loss: 0.4141 - accuracy: 0.7957 - val_loss: 0.4015 - val_accuracy: 0.8181\n",
            "Epoch 55/100\n",
            "451/451 [==============================] - 1s 2ms/step - loss: 0.4138 - accuracy: 0.7961 - val_loss: 0.4016 - val_accuracy: 0.8199\n",
            "Epoch 56/100\n",
            "451/451 [==============================] - 1s 2ms/step - loss: 0.4135 - accuracy: 0.7961 - val_loss: 0.4023 - val_accuracy: 0.8190\n",
            "Epoch 57/100\n",
            "451/451 [==============================] - 1s 3ms/step - loss: 0.4135 - accuracy: 0.7948 - val_loss: 0.4022 - val_accuracy: 0.8190\n",
            "Epoch 58/100\n",
            "451/451 [==============================] - 1s 3ms/step - loss: 0.4131 - accuracy: 0.7961 - val_loss: 0.4021 - val_accuracy: 0.8190\n",
            "Epoch 59/100\n",
            "451/451 [==============================] - 1s 3ms/step - loss: 0.4129 - accuracy: 0.7959 - val_loss: 0.4023 - val_accuracy: 0.8190\n",
            "Epoch 60/100\n",
            "451/451 [==============================] - 1s 3ms/step - loss: 0.4127 - accuracy: 0.7972 - val_loss: 0.4025 - val_accuracy: 0.8199\n",
            "Epoch 61/100\n",
            "451/451 [==============================] - 1s 2ms/step - loss: 0.4126 - accuracy: 0.7968 - val_loss: 0.4025 - val_accuracy: 0.8172\n",
            "Epoch 62/100\n",
            "451/451 [==============================] - 1s 2ms/step - loss: 0.4124 - accuracy: 0.7950 - val_loss: 0.4024 - val_accuracy: 0.8163\n",
            "Epoch 63/100\n",
            "451/451 [==============================] - 1s 3ms/step - loss: 0.4122 - accuracy: 0.7957 - val_loss: 0.4023 - val_accuracy: 0.8199\n",
            "Epoch 64/100\n",
            "451/451 [==============================] - 1s 2ms/step - loss: 0.4121 - accuracy: 0.7957 - val_loss: 0.4028 - val_accuracy: 0.8172\n",
            "Epoch 65/100\n",
            "451/451 [==============================] - 1s 2ms/step - loss: 0.4119 - accuracy: 0.7961 - val_loss: 0.4028 - val_accuracy: 0.8181\n",
            "Epoch 66/100\n",
            "451/451 [==============================] - 1s 2ms/step - loss: 0.4117 - accuracy: 0.7965 - val_loss: 0.4029 - val_accuracy: 0.8172\n",
            "Epoch 67/100\n",
            "451/451 [==============================] - 1s 3ms/step - loss: 0.4116 - accuracy: 0.7965 - val_loss: 0.4037 - val_accuracy: 0.8225\n",
            "Epoch 68/100\n",
            "451/451 [==============================] - 1s 2ms/step - loss: 0.4114 - accuracy: 0.7945 - val_loss: 0.4032 - val_accuracy: 0.8163\n",
            "Epoch 69/100\n",
            "451/451 [==============================] - 1s 2ms/step - loss: 0.4113 - accuracy: 0.7972 - val_loss: 0.4035 - val_accuracy: 0.8172\n",
            "Epoch 70/100\n",
            "451/451 [==============================] - 1s 2ms/step - loss: 0.4112 - accuracy: 0.7957 - val_loss: 0.4035 - val_accuracy: 0.8163\n",
            "Epoch 71/100\n",
            "451/451 [==============================] - 1s 2ms/step - loss: 0.4111 - accuracy: 0.7979 - val_loss: 0.4038 - val_accuracy: 0.8190\n",
            "Epoch 72/100\n",
            "451/451 [==============================] - 1s 3ms/step - loss: 0.4110 - accuracy: 0.7968 - val_loss: 0.4038 - val_accuracy: 0.8163\n",
            "Epoch 73/100\n",
            "451/451 [==============================] - 1s 3ms/step - loss: 0.4107 - accuracy: 0.7954 - val_loss: 0.4036 - val_accuracy: 0.8172\n",
            "Epoch 74/100\n",
            "451/451 [==============================] - 1s 2ms/step - loss: 0.4108 - accuracy: 0.7994 - val_loss: 0.4039 - val_accuracy: 0.8163\n",
            "Epoch 75/100\n",
            "451/451 [==============================] - 1s 2ms/step - loss: 0.4107 - accuracy: 0.7999 - val_loss: 0.4038 - val_accuracy: 0.8154\n",
            "Epoch 76/100\n",
            "451/451 [==============================] - 1s 3ms/step - loss: 0.4106 - accuracy: 0.7988 - val_loss: 0.4041 - val_accuracy: 0.8137\n",
            "Epoch 77/100\n",
            "451/451 [==============================] - 1s 3ms/step - loss: 0.4104 - accuracy: 0.7985 - val_loss: 0.4040 - val_accuracy: 0.8137\n",
            "Epoch 78/100\n",
            "451/451 [==============================] - 1s 2ms/step - loss: 0.4103 - accuracy: 0.7988 - val_loss: 0.4041 - val_accuracy: 0.8137\n",
            "Epoch 79/100\n",
            "451/451 [==============================] - 1s 3ms/step - loss: 0.4103 - accuracy: 0.7985 - val_loss: 0.4040 - val_accuracy: 0.8146\n",
            "Epoch 80/100\n",
            "451/451 [==============================] - 1s 3ms/step - loss: 0.4100 - accuracy: 0.7985 - val_loss: 0.4044 - val_accuracy: 0.8146\n",
            "Epoch 81/100\n",
            "451/451 [==============================] - 1s 3ms/step - loss: 0.4100 - accuracy: 0.7988 - val_loss: 0.4047 - val_accuracy: 0.8146\n",
            "Epoch 82/100\n",
            "451/451 [==============================] - 1s 3ms/step - loss: 0.4099 - accuracy: 0.7983 - val_loss: 0.4047 - val_accuracy: 0.8146\n",
            "Epoch 83/100\n",
            "451/451 [==============================] - 1s 2ms/step - loss: 0.4097 - accuracy: 0.7990 - val_loss: 0.4044 - val_accuracy: 0.8146\n",
            "Epoch 84/100\n",
            "451/451 [==============================] - 1s 3ms/step - loss: 0.4096 - accuracy: 0.7985 - val_loss: 0.4047 - val_accuracy: 0.8137\n",
            "Epoch 85/100\n",
            "451/451 [==============================] - 1s 3ms/step - loss: 0.4095 - accuracy: 0.8008 - val_loss: 0.4053 - val_accuracy: 0.8181\n",
            "Epoch 86/100\n",
            "451/451 [==============================] - 1s 3ms/step - loss: 0.4095 - accuracy: 0.7985 - val_loss: 0.4044 - val_accuracy: 0.8128\n",
            "Epoch 87/100\n",
            "451/451 [==============================] - 1s 3ms/step - loss: 0.4093 - accuracy: 0.7992 - val_loss: 0.4047 - val_accuracy: 0.8172\n",
            "Epoch 88/100\n",
            "451/451 [==============================] - 1s 3ms/step - loss: 0.4094 - accuracy: 0.8003 - val_loss: 0.4048 - val_accuracy: 0.8163\n",
            "Epoch 89/100\n",
            "451/451 [==============================] - 1s 3ms/step - loss: 0.4091 - accuracy: 0.7996 - val_loss: 0.4047 - val_accuracy: 0.8172\n",
            "Epoch 90/100\n",
            "451/451 [==============================] - 1s 3ms/step - loss: 0.4090 - accuracy: 0.8005 - val_loss: 0.4048 - val_accuracy: 0.8137\n",
            "Epoch 91/100\n",
            "451/451 [==============================] - 2s 3ms/step - loss: 0.4089 - accuracy: 0.8003 - val_loss: 0.4054 - val_accuracy: 0.8172\n",
            "Epoch 92/100\n",
            "451/451 [==============================] - 1s 3ms/step - loss: 0.4088 - accuracy: 0.7999 - val_loss: 0.4052 - val_accuracy: 0.8172\n",
            "Epoch 93/100\n",
            "451/451 [==============================] - 1s 2ms/step - loss: 0.4087 - accuracy: 0.7990 - val_loss: 0.4047 - val_accuracy: 0.8154\n",
            "Epoch 94/100\n",
            "451/451 [==============================] - 1s 2ms/step - loss: 0.4086 - accuracy: 0.7999 - val_loss: 0.4049 - val_accuracy: 0.8146\n",
            "Epoch 95/100\n",
            "451/451 [==============================] - 1s 3ms/step - loss: 0.4085 - accuracy: 0.8005 - val_loss: 0.4051 - val_accuracy: 0.8172\n",
            "Epoch 96/100\n",
            "451/451 [==============================] - 1s 3ms/step - loss: 0.4084 - accuracy: 0.7996 - val_loss: 0.4049 - val_accuracy: 0.8137\n",
            "Epoch 97/100\n",
            "451/451 [==============================] - 1s 3ms/step - loss: 0.4083 - accuracy: 0.8010 - val_loss: 0.4049 - val_accuracy: 0.8163\n",
            "Epoch 98/100\n",
            "451/451 [==============================] - 1s 3ms/step - loss: 0.4082 - accuracy: 0.8001 - val_loss: 0.4053 - val_accuracy: 0.8154\n",
            "Epoch 99/100\n",
            "451/451 [==============================] - 1s 2ms/step - loss: 0.4080 - accuracy: 0.8003 - val_loss: 0.4051 - val_accuracy: 0.8128\n",
            "Epoch 100/100\n",
            "451/451 [==============================] - 1s 3ms/step - loss: 0.4082 - accuracy: 0.8014 - val_loss: 0.4051 - val_accuracy: 0.8137\n"
          ]
        }
      ],
      "source": [
        "# Fitting the ANN to the Training set\n",
        "model_history=classifier.fit(X_train, y_train,validation_split=0.2, batch_size = 10, epochs = 100)"
      ]
    },
    {
      "cell_type": "code",
      "execution_count": 128,
      "metadata": {
        "colab": {
          "base_uri": "https://localhost:8080/",
          "height": 573
        },
        "id": "tCd1H1pKbPoA",
        "outputId": "19311c79-ff48-4e18-cb5e-c6c90faa80a0"
      },
      "outputs": [
        {
          "data": {
            "image/png": "[encoded data removed]",
            "text/plain": [
              "<Figure size 432x288 with 1 Axes>"
            ]
          },
          "metadata": {
            "needs_background": "light"
          },
          "output_type": "display_data"
        },
        {
          "data": {
            "image/png": "[encoded data removed]",
            "text/plain": [
              "<Figure size 432x288 with 1 Axes>"
            ]
          },
          "metadata": {
            "needs_background": "light"
          },
          "output_type": "display_data"
        }
      ],
      "source": [
        "# summarize history for accuracy\n",
        "plt.plot(model_history.history['accuracy'])\n",
        "plt.plot(model_history.history['val_accuracy'])\n",
        "plt.title('model accuracy')\n",
        "plt.ylabel('accuracy')\n",
        "plt.xlabel('epoch')\n",
        "plt.legend(['train', 'test'], loc='upper left')\n",
        "plt.show()\n",
        "\n",
        "# summarize history for loss\n",
        "plt.plot(model_history.history['loss'])\n",
        "plt.plot(model_history.history['val_loss'])\n",
        "plt.title('model loss')\n",
        "plt.ylabel('loss')\n",
        "plt.xlabel('epoch')\n",
        "plt.legend(['train', 'test'], loc='upper left')\n",
        "plt.show()"
      ]
    },
    {
      "cell_type": "code",
      "execution_count": 129,
      "metadata": {
        "id": "fcN0b6o7b_HY"
      },
      "outputs": [],
      "source": [
        "# Part 3 - Making the predictions and evaluating the model\n",
        "\n",
        "# Predicting the Test set results\n",
        "y_pred = classifier.predict(X_test)\n",
        "y_pred = (y_pred > 0.5)"
      ]
    },
    {
      "cell_type": "code",
      "execution_count": 130,
      "metadata": {
        "id": "jFBovEewnlW_"
      },
      "outputs": [],
      "source": [
        "y_pred_ann = y_pred"
      ]
    },
    {
      "cell_type": "code",
      "execution_count": 131,
      "metadata": {
        "id": "oPD47JXvcEUn"
      },
      "outputs": [],
      "source": [
        "# Making the Confusion Matrix\n",
        "from sklearn.metrics import confusion_matrix\n",
        "cm = confusion_matrix(y_test, y_pred)\n",
        "\n",
        "# Calculate the Accuracy\n",
        "from sklearn.metrics import accuracy_score\n",
        "score=accuracy_score(y_pred,y_test)"
      ]
    },
    {
      "cell_type": "code",
      "execution_count": 132,
      "metadata": {
        "colab": {
          "base_uri": "https://localhost:8080/"
        },
        "id": "lCXAACCAcIS_",
        "outputId": "9c31d380-26b6-43f7-d907-9161a6de081d"
      },
      "outputs": [
        {
          "data": {
            "text/plain": [
              "array([[922, 119],\n",
              "       [171, 197]])"
            ]
          },
          "execution_count": 132,
          "metadata": {},
          "output_type": "execute_result"
        }
      ],
      "source": [
        "cm"
      ]
    },
    {
      "cell_type": "code",
      "execution_count": 133,
      "metadata": {
        "colab": {
          "base_uri": "https://localhost:8080/"
        },
        "id": "4hFcPKUUcLq2",
        "outputId": "3b36946f-51cd-4791-e2e1-f06267e77921"
      },
      "outputs": [
        {
          "data": {
            "text/plain": [
              "0.794180269694819"
            ]
          },
          "execution_count": 133,
          "metadata": {},
          "output_type": "execute_result"
        }
      ],
      "source": [
        "score"
      ]
    },
    {
      "cell_type": "code",
      "execution_count": 134,
      "metadata": {
        "id": "U9g9WNIujS2n"
      },
      "outputs": [],
      "source": [
        "from sklearn.metrics import confusion_matrix, accuracy_score,f1_score, roc_curve, classification_report,roc_auc_score\n",
        "def evaluation(X_test, clf, y_test):\n",
        "  y_pred = clf.predict(X_test)\n",
        "  print('CLASSIFICATION REPORT')\n",
        "  print(classification_report(y_test, y_pred))\n",
        "      \n",
        "  print('F1-Score')\n",
        "  print(np.round(f1_score(y_test, y_pred)*100,2))\n",
        "    \n",
        "  print('Accuracy')\n",
        "  accuracy = accuracy_score(y_test, y_pred)\n",
        "  print(np.round(accuracy*100, 2), '%')\n",
        "\n",
        "def plot_loss(model):\n",
        "  prob=model.predict_proba(X_test)[:,1]\n",
        "  fpr, tpr, thresholds=roc_curve(y_test, prob)\n",
        "  plt.plot(fpr, tpr, linewidth=2)\n",
        "  plt.plot([0,1], [0,1], 'k--')\n",
        "  #plt.title('Logistic Regression ROC curve')\n",
        "  plt.xlabel('False Positive Rate')\n",
        "  plt.ylabel('True Positive Rate')\n",
        "  print('AUC-ROC')\n",
        "  print(np.round(roc_auc_score(y_test, prob)*100,2))"
      ]
    },
    {
      "cell_type": "code",
      "execution_count": 135,
      "metadata": {
        "colab": {
          "base_uri": "https://localhost:8080/",
          "height": 557
        },
        "id": "EzlkW8VVcNsH",
        "outputId": "9ddccc4c-1096-48a0-af71-8f16d1a9f3c9"
      },
      "outputs": [
        {
          "name": "stdout",
          "output_type": "stream",
          "text": [
            "CLASSIFICATION REPORT\n",
            "              precision    recall  f1-score   support\n",
            "\n",
            "           0       0.83      0.89      0.86      1041\n",
            "           1       0.61      0.49      0.54       368\n",
            "\n",
            "    accuracy                           0.78      1409\n",
            "   macro avg       0.72      0.69      0.70      1409\n",
            "weighted avg       0.77      0.78      0.78      1409\n",
            "\n",
            "F1-Score\n",
            "54.27\n",
            "Accuracy\n",
            "78.35 %\n",
            "AUC-ROC\n",
            "82.7\n"
          ]
        },
        {
          "data": {
            "image/png": "[encoded data removed]",
            "text/plain": [
              "<Figure size 432x288 with 1 Axes>"
            ]
          },
          "metadata": {
            "needs_background": "light"
          },
          "output_type": "display_data"
        }
      ],
      "source": [
        "from xgboost import XGBClassifier\n",
        "xgb_clf = XGBClassifier(learning_rate = 0.3, n_estimators = 180, max_depth = 3)\n",
        "xgb_clf.fit(X_train, y_train)\n",
        "evaluation(X_test, xgb_clf, y_test)\n",
        "plot_loss(xgb_clf)"
      ]
    },
    {
      "cell_type": "code",
      "execution_count": 136,
      "metadata": {
        "colab": {
          "base_uri": "https://localhost:8080/"
        },
        "id": "WHu5XvoDnqwP",
        "outputId": "916ee6f5-882b-4e6e-de5e-dc98889669b6"
      },
      "outputs": [
        {
          "data": {
            "text/plain": [
              "array([0, 0, 0, ..., 1, 0, 1])"
            ]
          },
          "execution_count": 136,
          "metadata": {},
          "output_type": "execute_result"
        }
      ],
      "source": [
        "xgb_clf.predict(X_test)"
      ]
    },
    {
      "cell_type": "code",
      "execution_count": 137,
      "metadata": {
        "colab": {
          "base_uri": "https://localhost:8080/",
          "height": 557
        },
        "id": "esiZEV9wjF5f",
        "outputId": "e9285dc1-0de2-4eaf-a190-41f268c50cc9"
      },
      "outputs": [
        {
          "name": "stdout",
          "output_type": "stream",
          "text": [
            "CLASSIFICATION REPORT\n",
            "              precision    recall  f1-score   support\n",
            "\n",
            "           0       0.83      0.90      0.86      1041\n",
            "           1       0.63      0.49      0.55       368\n",
            "\n",
            "    accuracy                           0.79      1409\n",
            "   macro avg       0.73      0.70      0.71      1409\n",
            "weighted avg       0.78      0.79      0.78      1409\n",
            "\n",
            "F1-Score\n",
            "55.49\n",
            "Accuracy\n",
            "79.28 %\n",
            "AUC-ROC\n",
            "81.68\n"
          ]
        },
        {
          "data": {
            "image/png": "[encoded data removed]",
            "text/plain": [
              "<Figure size 432x288 with 1 Axes>"
            ]
          },
          "metadata": {
            "needs_background": "light"
          },
          "output_type": "display_data"
        }
      ],
      "source": [
        "from sklearn.ensemble import RandomForestClassifier\n",
        "rfc = RandomForestClassifier()\n",
        "rfc.fit(X_train, y_train)\n",
        "evaluation(X_test, rfc, y_test)\n",
        "plot_loss(rfc)"
      ]
    },
    {
      "cell_type": "code",
      "execution_count": 153,
      "metadata": {
        "id": "GeORAgt4oJ4X"
      },
      "outputs": [],
      "source": [
        "xg_boost_preds = xgb_clf.predict(X_test)\n",
        "random_forest_preds = rfc.predict(X_test)\n",
        "ann_preds = y_pred_ann\n",
        "acctual_preds = y_test"
      ]
    },
    {
      "cell_type": "code",
      "execution_count": 178,
      "metadata": {
        "id": "RYC9KCwNqbTw"
      },
      "outputs": [],
      "source": [
        "predictions_count = len(acctual_preds)\n",
        "\n",
        "xg_boost_preds_converted = [xg_boost_preds[i] for i in range(predictions_count)]\n",
        "random_forest_preds_converted = [random_forest_preds[i] for i in range(predictions_count)]\n",
        "ann_preds_converted = [ 1 if ann_preds[i][0] else 0 for i in range(predictions_count)]\n",
        "\n",
        "xg_boost_weight = 0.2\n",
        "random_forest_weight = 0.3\n",
        "ann_preds_weight = 0.5\n",
        "\n",
        "ensemble_preds = []\n",
        "for i in range(predictions_count):\n",
        "  current_pred_dict = {1:0, 0:0}\n",
        "  current_pred_dict[xg_boost_preds_converted[i]] += xg_boost_weight\n",
        "  current_pred_dict[random_forest_preds_converted[i]] += random_forest_weight\n",
        "  current_pred_dict[ann_preds_converted[i]] += ann_preds_weight\n",
        "  ensemble_preds.append(max(current_pred_dict, key=current_pred_dict.get))\n"
      ]
    },
    {
      "cell_type": "code",
      "execution_count": 179,
      "metadata": {
        "colab": {
          "base_uri": "https://localhost:8080/"
        },
        "id": "vIhfixM1qS9v",
        "outputId": "80920b91-a8df-41dd-eae5-10efde238a25"
      },
      "outputs": [
        {
          "data": {
            "text/plain": [
              "2200    0\n",
              "4627    0\n",
              "3225    0\n",
              "2828    0\n",
              "3768    0\n",
              "       ..\n",
              "2631    1\n",
              "5333    1\n",
              "6972    1\n",
              "4598    0\n",
              "3065    0\n",
              "Name: Churn, Length: 1409, dtype: int64"
            ]
          },
          "execution_count": 179,
          "metadata": {},
          "output_type": "execute_result"
        }
      ],
      "source": [
        "acctual_preds"
      ]
    },
    {
      "cell_type": "code",
      "execution_count": 180,
      "metadata": {
        "colab": {
          "base_uri": "https://localhost:8080/"
        },
        "id": "ThPDRB1QqU6W",
        "outputId": "c3dc6281-233a-4a58-ad7d-2ef6419547a0"
      },
      "outputs": [
        {
          "name": "stdout",
          "output_type": "stream",
          "text": [
            "CLASSIFICATION REPORT\n",
            "              precision    recall  f1-score   support\n",
            "\n",
            "           0       0.85      0.87      0.86      1041\n",
            "           1       0.60      0.57      0.59       368\n",
            "\n",
            "    accuracy                           0.79      1409\n",
            "   macro avg       0.73      0.72      0.72      1409\n",
            "weighted avg       0.79      0.79      0.79      1409\n",
            "\n",
            "F1-Score\n",
            "58.54\n",
            "Accuracy\n",
            "78.99 %\n"
          ]
        }
      ],
      "source": [
        "# for row in acctual_preds.array:\n",
        "#     print(row)\n",
        "print('CLASSIFICATION REPORT')\n",
        "print(classification_report(acctual_preds, ensemble_preds))\n",
        "    \n",
        "print('F1-Score')\n",
        "print(np.round(f1_score(acctual_preds, ensemble_preds)*100,2))\n",
        "  \n",
        "print('Accuracy')\n",
        "accuracy = accuracy_score(acctual_preds, ensemble_preds)\n",
        "print(np.round(accuracy*100, 2), '%')"
      ]
    },
    {
      "cell_type": "code",
      "execution_count": null,
      "metadata": {
        "id": "nMuRGynysR34"
      },
      "outputs": [],
      "source": []
    }
  ],
  "metadata": {
    "colab": {
      "name": "ANN_XGBoost_RandomForest_Ensemble.ipynb",
      "provenance": []
    },
    "kernelspec": {
      "display_name": "Python 3",
      "name": "python3"
    },
    "language_info": {
      "name": "python"
    }
  },
  "nbformat": 4,
  "nbformat_minor": 0
}
